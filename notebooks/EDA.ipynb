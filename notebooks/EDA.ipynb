{
  "metadata": {
    "kernelspec": {
      "name": "python",
      "display_name": "Python (Pyodide)",
      "language": "python"
    },
    "language_info": {
      "codemirror_mode": {
        "name": "python",
        "version": 3
      },
      "file_extension": ".py",
      "mimetype": "text/x-python",
      "name": "python",
      "nbconvert_exporter": "python",
      "pygments_lexer": "ipython3",
      "version": "3.8"
    }
  },
  "nbformat_minor": 4,
  "nbformat": 4,
  "cells": [
    {
      "cell_type": "code",
      "source": "import pandas as pd\nimport matplotlib.pyplot as plt\nimport seaborn as sns\n\n# Load the dataset\ndata_path = '../data/ecommerce_churn_data.csv'\ndf = pd.read_csv(data_path)\n\n# Display the first few rows\ndisplay(df.head())\n\n# Basic dataset overview\nprint(\"Dataset Shape:\", df.shape)\nprint(\"Column Info:\")\ndf.info()\n\n# Check for missing values\nprint(\"\\nMissing Values:\")\nprint(df.isnull().sum())\n\n# Summary statistics\nprint(\"\\nSummary Statistics:\")\nprint(df.describe())\n\n# Churn distribution\nplt.figure(figsize=(6, 4))\nsns.countplot(data=df, x='Churn', palette='viridis')\nplt.title('Churn Distribution')\nplt.show()\n\n# Correlation heatmap\nplt.figure(figsize=(10, 8))\ncorrelation_matrix = df.corr()\nsns.heatmap(correlation_matrix, annot=True, fmt='.2f', cmap='coolwarm', cbar=True)\nplt.title('Feature Correlation Heatmap')\nplt.show()\n\n# Distribution of numerical features\nnumerical_features = df.select_dtypes(include=['int64', 'float64']).columns\nfor feature in numerical_features:\n    plt.figure(figsize=(6, 4))\n    sns.histplot(df[feature], kde=True, bins=30, color='blue')\n    plt.title(f'Distribution of {feature}')\n    plt.show()\n\n# Box plots for numerical features grouped by churn\nfor feature in numerical_features:\n    plt.figure(figsize=(6, 4))\n    sns.boxplot(data=df, x='Churn', y=feature, palette='Set2')\n    plt.title(f'{feature} by Churn')\n    plt.show()\n\n# Summary insights\nprint(\"\\nInsights:\")\nprint(\"1. Churn distribution shows class balance or imbalance.\")\nprint(\"2. Correlation matrix helps identify potential relationships between features and target.\")\nprint(\"3. Numerical feature distributions reveal skewness or outliers.\")",
      "metadata": {
        "trusted": true
      },
      "outputs": [],
      "execution_count": null
    }
  ]
}